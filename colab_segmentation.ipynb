{
  "cells": [
    {
      "cell_type": "code",
      "execution_count": null,
      "id": "072e25b8",
      "metadata": {
        "id": "072e25b8",
        "outputId": "d9796ef3-f342-418f-c8a7-f6221cad50a3",
        "colab": {
          "base_uri": "https://localhost:8080/",
          "height": 41
        }
      },
      "outputs": [
        {
          "output_type": "display_data",
          "data": {
            "text/plain": [
              "<IPython.core.display.HTML object>"
            ],
            "text/html": [
              "\n",
              "<a target=\"_blank\" href=\"https://colab.research.google.com/github/facebookresearch/segment-anything/blob/main/notebooks/automatic_mask_generator_example.ipynb\">\n",
              "  <img src=\"https://colab.research.google.com/assets/colab-badge.svg\" alt=\"Open In Colab\"/>\n",
              "</a>\n"
            ]
          },
          "metadata": {}
        }
      ],
      "source": [
        "from IPython.display import display, HTML\n",
        "display(HTML(\n",
        "\"\"\"\n",
        "<a target=\"_blank\" href=\"https://colab.research.google.com/github/facebookresearch/segment-anything/blob/main/notebooks/automatic_mask_generator_example.ipynb\">\n",
        "  <img src=\"https://colab.research.google.com/assets/colab-badge.svg\" alt=\"Open In Colab\"/>\n",
        "</a>\n",
        "\"\"\"\n",
        "))"
      ]
    },
    {
      "cell_type": "markdown",
      "id": "c0b71431",
      "metadata": {
        "id": "c0b71431"
      },
      "source": [
        "## Environment Set-up"
      ]
    },
    {
      "cell_type": "code",
      "execution_count": null,
      "id": "4fe300fb",
      "metadata": {
        "id": "4fe300fb"
      },
      "outputs": [],
      "source": [
        "using_colab = True"
      ]
    },
    {
      "cell_type": "code",
      "execution_count": null,
      "id": "0685a2f5",
      "metadata": {
        "id": "0685a2f5",
        "colab": {
          "base_uri": "https://localhost:8080/"
        },
        "outputId": "089cc38a-00d0-4226-bc25-4216de6145d3"
      },
      "outputs": [
        {
          "output_type": "stream",
          "name": "stdout",
          "text": [
            "PyTorch version: 2.0.0+cu118\n",
            "Torchvision version: 0.15.1+cu118\n",
            "CUDA is available: True\n",
            "Looking in indexes: https://pypi.org/simple, https://us-python.pkg.dev/colab-wheels/public/simple/\n",
            "Requirement already satisfied: opencv-python in /usr/local/lib/python3.10/dist-packages (4.7.0.72)\n",
            "Requirement already satisfied: matplotlib in /usr/local/lib/python3.10/dist-packages (3.7.1)\n",
            "Requirement already satisfied: numpy>=1.19.3 in /usr/local/lib/python3.10/dist-packages (from opencv-python) (1.22.4)\n",
            "Requirement already satisfied: cycler>=0.10 in /usr/local/lib/python3.10/dist-packages (from matplotlib) (0.11.0)\n",
            "Requirement already satisfied: python-dateutil>=2.7 in /usr/local/lib/python3.10/dist-packages (from matplotlib) (2.8.2)\n",
            "Requirement already satisfied: fonttools>=4.22.0 in /usr/local/lib/python3.10/dist-packages (from matplotlib) (4.39.3)\n",
            "Requirement already satisfied: kiwisolver>=1.0.1 in /usr/local/lib/python3.10/dist-packages (from matplotlib) (1.4.4)\n",
            "Requirement already satisfied: pyparsing>=2.3.1 in /usr/local/lib/python3.10/dist-packages (from matplotlib) (3.0.9)\n",
            "Requirement already satisfied: packaging>=20.0 in /usr/local/lib/python3.10/dist-packages (from matplotlib) (23.1)\n",
            "Requirement already satisfied: contourpy>=1.0.1 in /usr/local/lib/python3.10/dist-packages (from matplotlib) (1.0.7)\n",
            "Requirement already satisfied: pillow>=6.2.0 in /usr/local/lib/python3.10/dist-packages (from matplotlib) (8.4.0)\n",
            "Requirement already satisfied: six>=1.5 in /usr/local/lib/python3.10/dist-packages (from python-dateutil>=2.7->matplotlib) (1.16.0)\n",
            "Looking in indexes: https://pypi.org/simple, https://us-python.pkg.dev/colab-wheels/public/simple/\n",
            "Collecting git+https://github.com/facebookresearch/segment-anything.git\n",
            "  Cloning https://github.com/facebookresearch/segment-anything.git to /tmp/pip-req-build-ddhf6m4k\n",
            "  Running command git clone --filter=blob:none --quiet https://github.com/facebookresearch/segment-anything.git /tmp/pip-req-build-ddhf6m4k\n",
            "  Resolved https://github.com/facebookresearch/segment-anything.git to commit 6fdee8f2727f4506cfbbe553e23b895e27956588\n",
            "  Preparing metadata (setup.py) ... \u001b[?25l\u001b[?25hdone\n",
            "Building wheels for collected packages: segment-anything\n",
            "  Building wheel for segment-anything (setup.py) ... \u001b[?25l\u001b[?25hdone\n",
            "  Created wheel for segment-anything: filename=segment_anything-1.0-py3-none-any.whl size=36610 sha256=7852b33f0537f98114fac9cbf9afb51b9f0f008fa71b0b4f3b95648493653414\n",
            "  Stored in directory: /tmp/pip-ephem-wheel-cache-44a8tcv5/wheels/10/cf/59/9ccb2f0a1bcc81d4fbd0e501680b5d088d690c6cfbc02dc99d\n",
            "Successfully built segment-anything\n",
            "Installing collected packages: segment-anything\n",
            "Successfully installed segment-anything-1.0\n",
            "--2023-05-06 13:08:36--  https://dl.fbaipublicfiles.com/segment_anything/sam_vit_h_4b8939.pth\n",
            "Resolving dl.fbaipublicfiles.com (dl.fbaipublicfiles.com)... 13.249.141.9, 13.249.141.108, 13.249.141.40, ...\n",
            "Connecting to dl.fbaipublicfiles.com (dl.fbaipublicfiles.com)|13.249.141.9|:443... connected.\n",
            "HTTP request sent, awaiting response... 200 OK\n",
            "Length: 2564550879 (2.4G) [binary/octet-stream]\n",
            "Saving to: ‘sam_vit_h_4b8939.pth’\n",
            "\n",
            "sam_vit_h_4b8939.pt 100%[===================>]   2.39G   208MB/s    in 11s     \n",
            "\n",
            "2023-05-06 13:08:48 (215 MB/s) - ‘sam_vit_h_4b8939.pth’ saved [2564550879/2564550879]\n",
            "\n"
          ]
        }
      ],
      "source": [
        "if using_colab:\n",
        "    import torch\n",
        "    import torchvision\n",
        "    print(\"PyTorch version:\", torch.__version__)\n",
        "    print(\"Torchvision version:\", torchvision.__version__)\n",
        "    print(\"CUDA is available:\", torch.cuda.is_available())\n",
        "    import sys\n",
        "    !{sys.executable} -m pip install opencv-python matplotlib\n",
        "    !{sys.executable} -m pip install 'git+https://github.com/facebookresearch/segment-anything.git'\n",
        "    \n",
        "    !mkdir images\n",
        "    \n",
        "    !wget https://dl.fbaipublicfiles.com/segment_anything/sam_vit_h_4b8939.pth"
      ]
    },
    {
      "cell_type": "markdown",
      "id": "fd2bc687",
      "metadata": {
        "id": "fd2bc687"
      },
      "source": [
        "## Set-up"
      ]
    },
    {
      "cell_type": "code",
      "execution_count": null,
      "id": "560725a2",
      "metadata": {
        "id": "560725a2"
      },
      "outputs": [],
      "source": [
        "import numpy as np\n",
        "import torch\n",
        "import matplotlib.pyplot as plt\n",
        "import cv2"
      ]
    },
    {
      "cell_type": "code",
      "execution_count": null,
      "id": "74b6e5f0",
      "metadata": {
        "id": "74b6e5f0"
      },
      "outputs": [],
      "source": [
        "def show_anns(anns):\n",
        "    if len(anns) == 0:\n",
        "        return\n",
        "    sorted_anns = sorted(anns, key=(lambda x: x['area']), reverse=True)\n",
        "    ax = plt.gca()\n",
        "    ax.set_autoscale_on(False)\n",
        "\n",
        "    img = np.ones((sorted_anns[0]['segmentation'].shape[0], sorted_anns[0]['segmentation'].shape[1], 4))\n",
        "    img[:,:,3] = 0\n",
        "    for ann in sorted_anns:\n",
        "        m = ann['segmentation']\n",
        "        color_mask = np.concatenate([np.random.random(3), [0.35]])\n",
        "        img[m] = color_mask\n",
        "    ax.imshow(img)"
      ]
    },
    {
      "cell_type": "code",
      "execution_count": null,
      "id": "1848a108",
      "metadata": {
        "id": "1848a108",
        "colab": {
          "base_uri": "https://localhost:8080/"
        },
        "outputId": "34e63317-2d47-422a-89dc-d66218ef5acd"
      },
      "outputs": [
        {
          "output_type": "stream",
          "name": "stdout",
          "text": [
            "Mounted at /content/drive\n"
          ]
        }
      ],
      "source": [
        "import sys\n",
        "sys.path.append(\"..\")\n",
        "from tqdm import tqdm\n",
        "\n",
        "from google.colab import drive\n",
        "drive.mount('/content/drive')\n"
      ]
    },
    {
      "cell_type": "code",
      "source": [
        "from segment_anything import sam_model_registry, SamAutomaticMaskGenerator, SamPredictor\n",
        "path = '/drive/MyDrive/'\n",
        "sam_checkpoint = \"sam_vit_h_4b8939.pth\"\n",
        "model_type = \"vit_h\"\n",
        "\n",
        "device = \"cuda\"\n",
        "\n",
        "sam = sam_model_registry[model_type](checkpoint=sam_checkpoint)\n",
        "sam.to(device=device)\n",
        "\n",
        "mask_generator = SamAutomaticMaskGenerator(sam)"
      ],
      "metadata": {
        "id": "IVJjTfxU39u1"
      },
      "id": "IVJjTfxU39u1",
      "execution_count": null,
      "outputs": []
    },
    {
      "cell_type": "code",
      "source": [
        "import os\n",
        "os.chdir(\"/content/drive/MyDrive\")\n",
        "!ls"
      ],
      "metadata": {
        "colab": {
          "base_uri": "https://localhost:8080/",
          "height": 201
        },
        "id": "H6EX9mEw8K_R",
        "outputId": "8b685a75-0c08-48a5-9875-e1562e714180"
      },
      "id": "H6EX9mEw8K_R",
      "execution_count": null,
      "outputs": [
        {
          "output_type": "error",
          "ename": "FileNotFoundError",
          "evalue": "ignored",
          "traceback": [
            "\u001b[0;31m---------------------------------------------------------------------------\u001b[0m",
            "\u001b[0;31mFileNotFoundError\u001b[0m                         Traceback (most recent call last)",
            "\u001b[0;32m<ipython-input-13-e7022d1b5de6>\u001b[0m in \u001b[0;36m<cell line: 2>\u001b[0;34m()\u001b[0m\n\u001b[1;32m      1\u001b[0m \u001b[0;32mimport\u001b[0m \u001b[0mos\u001b[0m\u001b[0;34m\u001b[0m\u001b[0;34m\u001b[0m\u001b[0m\n\u001b[0;32m----> 2\u001b[0;31m \u001b[0mos\u001b[0m\u001b[0;34m.\u001b[0m\u001b[0mchdir\u001b[0m\u001b[0;34m(\u001b[0m\u001b[0;34m\"/content/drive/MyDrive\"\u001b[0m\u001b[0;34m)\u001b[0m\u001b[0;34m\u001b[0m\u001b[0;34m\u001b[0m\u001b[0m\n\u001b[0m\u001b[1;32m      3\u001b[0m \u001b[0mget_ipython\u001b[0m\u001b[0;34m(\u001b[0m\u001b[0;34m)\u001b[0m\u001b[0;34m.\u001b[0m\u001b[0msystem\u001b[0m\u001b[0;34m(\u001b[0m\u001b[0;34m'ls'\u001b[0m\u001b[0;34m)\u001b[0m\u001b[0;34m\u001b[0m\u001b[0;34m\u001b[0m\u001b[0m\n",
            "\u001b[0;31mFileNotFoundError\u001b[0m: [Errno 2] No such file or directory: '/content/drive/MyDrive'"
          ]
        }
      ]
    },
    {
      "cell_type": "markdown",
      "id": "d6b1ea21",
      "metadata": {
        "id": "d6b1ea21"
      },
      "source": [
        "To generate masks, just run `generate` on an image."
      ]
    },
    {
      "cell_type": "code",
      "execution_count": null,
      "id": "391771c1",
      "metadata": {
        "id": "391771c1"
      },
      "outputs": [],
      "source": [
        "import pickle\n",
        "path = \"/content/drive/MyDrive/\"\n",
        "def load_pickle(filename):\n",
        "    with open(filename, \"rb\") as input_file:\n",
        "        object = pickle.load(input_file)\n",
        "    return object\n",
        "dict_prompt_captions = load_pickle(path+\"dict_prompt_captions.pickle\")\n",
        "dict_prompt_images = load_pickle(path+'dict_prompt_images.pickle')\n",
        "\n",
        "\n",
        "      "
      ]
    },
    {
      "cell_type": "code",
      "source": [
        "!pip install transformers\n",
        "from transformers import CLIPProcessor, CLIPModel"
      ],
      "metadata": {
        "id": "TrAU9E4iIdha"
      },
      "id": "TrAU9E4iIdha",
      "execution_count": null,
      "outputs": []
    },
    {
      "cell_type": "code",
      "source": [
        "keys = load_pickle(path+'keys_rand_order.pickle')\n",
        "# Now let's \n",
        "model = CLIPModel.from_pretrained(\"openai/clip-vit-base-patch32\")\n",
        "processor = CLIPProcessor.from_pretrained(\"openai/clip-vit-base-patch32\")\n",
        "model.to(device)\n",
        "\n",
        "dict_model_input = load_pickle(path+'dict_model_input_int.pickle')\n",
        "\n",
        "# image = \n",
        "TOP_K_OBJ = 80\n",
        "k = 200\n",
        "i = 0\n",
        "#for key in keys[:k]:\n",
        "pic = 0\n",
        "save_best_crops = {}\n",
        "for rand_key in keys[:k]:\n",
        "    img_ex1, text_ex1, img_ex2, text_ex2, img_q, text_q_prompt = dict_model_input[rand_key]\n",
        "    for img, caption in zip([img_ex1, img_ex2], [text_ex1, text_ex2]):\n",
        "        masks = mask_generator.generate(img)\n",
        "        cur_masks_info = []\n",
        "        crops = []\n",
        "        pic=pic+1\n",
        "        for mask in sorted(masks, key=lambda mask: mask[\"area\"])[-TOP_K_OBJ:]:\n",
        "            if mask[\"predicted_iou\"] < 0.9 or mask[\"stability_score\"] < 0.84:\n",
        "                continue\n",
        "            \n",
        "            x, y, w, h = mask[\"bbox\"]\n",
        "            masked = img * mask[\"segmentation\"][...,np.newaxis] #make it 3channel\n",
        "            crop = masked[y : y + h, x : x + w]\n",
        "            cur_masks_info.append(mask)\n",
        "            crops.append(crop)\n",
        "\n",
        "\n",
        "            # abs_dif = abs(w-h)\n",
        "            # if w > h:\n",
        "            #     top, bottom = abs_dif // 2, abs_dif // 2\n",
        "            #     left, right = 0, 0\n",
        "            # else:\n",
        "            #     top, bottom = 0, 0\n",
        "            #     left, right = abs_dif // 2, abs_dif // 2\n",
        "        #\n",
        "        text_clip = [caption,'This is a background'] \n",
        "        inputs = processor(text=[text_clip], images=crops, return_tensors=\"pt\", padding=True)\n",
        "        outputs = model(**inputs)\n",
        "        logits_per_image = outputs.logits_per_image # this is the image-text cosine similarity score\n",
        "        #omit these if you only want cosine similarity\n",
        "        probs = logits_per_image.softmax(dim=-1)\n",
        "        print(probs.shape)\n",
        "        best_ind = torch.where(probs[:,0] > 0.85)\n",
        "        assert(len(best_ind) == 1)\n",
        "        print(best_ind[0].tolist())\n",
        "        save_best_crops[rand_key] = [cur_masks_info[i] for i in best_ind]\n",
        "\n",
        "        #torch.argsort(a, dim=1)\n",
        "        \n",
        "        # # padding for clip needed?\n",
        "        # crop = cv2.copyMakeBorder(\n",
        "        #     crop,\n",
        "        #     top,\n",
        "        #     bottom,\n",
        "        #     left,\n",
        "        #     right,\n",
        "        #     cv2.BORDER_CONSTANT,\n",
        "        #     value=(0, 0, 0),\n",
        "        # )\n",
        "        # crop = Image.fromarray(crop)\n",
        "\n",
        "        #an den xwrane kai ta 2 montela\n",
        "        # delete sam, empty torch cuda, \n",
        "        # \n",
        "        if pic < 30:\n",
        "\n",
        "            fig = plt.figure()\n",
        "            ax11 = fig.add_subplot(2, 2, 1)\n",
        "            ax11.axis('off')\n",
        "            ax11.imshow(img)\n",
        "            \n",
        "\n",
        "            # # showing image\n",
        "            # plt.imshow(img)\n",
        "            # plt.axis('off')\n",
        "            # plt.title(\"First\")\n",
        "            \n",
        "            # # Adds a subplot at the 2nd position\n",
        "            ax12 = fig.add_subplot(2, 2, 2)\n",
        "            ax12.axis('off')\n",
        "            ax12.imshow(img)\n",
        "            # # showing image\n",
        "            # plt.imshow(img_prompt2)\n",
        "            # plt.axis('off')\n",
        "            # plt.title(\"Second\")\n",
        "            \n",
        "            # # Adds a subplot at the 3rd position\n",
        "            ax21 = fig.add_subplot(2, 2, 3)\n",
        "            ax21.axis('off')\n",
        "            ax21.imshow(img)\n",
        "            # # showing image\n",
        "            # plt.imshow(img_q)\n",
        "    \n",
        "            # plt.title(\"Third\")\n",
        "            \n",
        "            # # Adds a subplot at the 4th position\n",
        "            ax22 = fig.add_subplot(2, 2, 4)\n",
        "            ax22.axis('off')\n",
        "            ax22.imshow(img)\n",
        "            # plt.show()\n",
        "            fig.savefig(path+'images/full_figure_this'+str(pic)+'.png')"
      ],
      "metadata": {
        "id": "hIrkpCWuFPp6"
      },
      "id": "hIrkpCWuFPp6",
      "execution_count": null,
      "outputs": []
    }
  ],
  "metadata": {
    "kernelspec": {
      "display_name": "Python 3 (ipykernel)",
      "language": "python",
      "name": "python3"
    },
    "language_info": {
      "codemirror_mode": {
        "name": "ipython",
        "version": 3
      },
      "file_extension": ".py",
      "mimetype": "text/x-python",
      "name": "python",
      "nbconvert_exporter": "python",
      "pygments_lexer": "ipython3",
      "version": "3.8.0"
    },
    "colab": {
      "provenance": [],
      "gpuType": "T4"
    },
    "gpuClass": "standard",
    "accelerator": "GPU"
  },
  "nbformat": 4,
  "nbformat_minor": 5
}