{
 "cells": [
  {
   "cell_type": "code",
   "execution_count": 1,
   "metadata": {},
   "outputs": [],
   "source": [
    "import os\n",
    "import json\n",
    "import pandas as pd\n",
    "import matplotlib.pyplot as plt\n",
    "import numpy as np\n",
    "from PIL import Image\n",
    "\n",
    "from fromage import models\n",
    "from visual_dialog import dialog_utils\n",
    "\n",
    "dialogs_path = 'visual_dialog/visdial_1.0_val.json'\n",
    "annotations_path = 'visual_dialog/visdial_1.0_val_dense_annotations.json'\n",
    "images_path = 'visual_dialog/VisualDialog_val2018/'"
   ]
  },
  {
   "cell_type": "code",
   "execution_count": 2,
   "metadata": {},
   "outputs": [],
   "source": [
    "# Read the JSON file and load it into a Python object\n",
    "with open(dialogs_path, 'r') as f:\n",
    "    dialogs = json.load(f)"
   ]
  },
  {
   "attachments": {},
   "cell_type": "markdown",
   "metadata": {},
   "source": [
    "# Create Dialog Dataframe"
   ]
  },
  {
   "cell_type": "code",
   "execution_count": 5,
   "metadata": {},
   "outputs": [],
   "source": [
    "# Create dialog dataframe\n",
    "def create_stories(dialogs_path:str) -> pd.DataFrame:\n",
    "\n",
    "    # Read the JSON file and load it into a Python object\n",
    "    with open(dialogs_path, 'r') as f:\n",
    "        dialogs = json.load(f)\n",
    "\n",
    "    dialog_df = pd.DataFrame(columns=['id', 'round', 'image_id', 'question_id', 'question', 'answer_id', 'answer'])\n",
    "\n",
    "    # Iterate through the dialogs and extracted the desired information\n",
    "    for i in range(len(dialogs['data']['dialogs'])):\n",
    "        id = i\n",
    "\n",
    "        image_id = dialogs['data']['dialogs'][i]['image_id']\n",
    "\n",
    "        for j in range(len(dialogs['data']['dialogs'][i]['dialog'])):\n",
    "                round = j+1\n",
    "                answer_index = dialogs['data']['dialogs'][i]['dialog'][j]['answer']\n",
    "                question_index = dialogs['data']['dialogs'][i]['dialog'][j]['question']\n",
    "\n",
    "                question = dialogs['data']['questions'][question_index]\n",
    "                answer = dialogs['data']['answers'][answer_index]\n",
    "\n",
    "                new_row = {'id': id, 'round': round, 'image_id': image_id, 'question_id': question_index, \n",
    "                           'question': question, 'answer_id': answer_index, 'answer': answer}\n",
    "\n",
    "                # Append the new row to the Dataframe\n",
    "                dialog_df.loc[len(dialog_df)] = new_row\n",
    "    \n",
    "    return dialog_df\n"
   ]
  },
  {
   "cell_type": "code",
   "execution_count": 6,
   "metadata": {},
   "outputs": [],
   "source": [
    "# Create the Dataframe\n",
    "dialogs_path = 'visual_dialog/visdial_1.0_val.json'\n",
    "dialog_df = create_stories(dialogs_path)"
   ]
  },
  {
   "cell_type": "code",
   "execution_count": null,
   "metadata": {},
   "outputs": [],
   "source": [
    "# Save the dataframe as csv\n",
    "stories_csv_path = 'visual_dialog/dialogs.csv'\n",
    "dialog_utils.save_stories(dialog_df, stories_csv_path)"
   ]
  },
  {
   "attachments": {},
   "cell_type": "markdown",
   "metadata": {},
   "source": [
    "# Load Dialogs Dataframe"
   ]
  },
  {
   "cell_type": "code",
   "execution_count": null,
   "metadata": {},
   "outputs": [],
   "source": [
    "def load_dialogs(stories_csv_path: str) -> pd.DataFrame:\n",
    "    return pd.read_csv(stories_csv_path, encoding='utf8', dtype=str)"
   ]
  },
  {
   "cell_type": "code",
   "execution_count": null,
   "metadata": {},
   "outputs": [],
   "source": [
    "# Load Dataframe\n",
    "dialogs_csv_path = 'visual_dialog/dialogs.csv'\n",
    "dialogs_df = load_dialogs(dialogs_csv_path)"
   ]
  },
  {
   "cell_type": "code",
   "execution_count": null,
   "metadata": {},
   "outputs": [],
   "source": [
    "# Show dataframe\n",
    "dialogs_df.head()"
   ]
  }
 ],
 "metadata": {
  "kernelspec": {
   "display_name": "dl2_gpu",
   "language": "python",
   "name": "python3"
  },
  "language_info": {
   "codemirror_mode": {
    "name": "ipython",
    "version": 3
   },
   "file_extension": ".py",
   "mimetype": "text/x-python",
   "name": "python",
   "nbconvert_exporter": "python",
   "pygments_lexer": "ipython3",
   "version": "3.10.6"
  },
  "orig_nbformat": 4
 },
 "nbformat": 4,
 "nbformat_minor": 2
}
