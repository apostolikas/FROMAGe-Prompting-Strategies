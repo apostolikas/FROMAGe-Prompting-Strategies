{
 "cells": [
  {
   "cell_type": "code",
   "execution_count": 1,
   "metadata": {},
   "outputs": [],
   "source": [
    "import os\n",
    "import json\n",
    "import pandas as pd\n",
    "import matplotlib.pyplot as plt\n",
    "import numpy as np\n",
    "from PIL import Image\n",
    "\n",
    "from fromage import models\n",
    "from visual_dialog import dialog_utils\n",
    "\n",
    "dialogs_path = 'visual_dialog/visdial_1.0_val.json'\n",
    "annotations_path = 'visual_dialog/visdial_1.0_val_dense_annotations.json'\n",
    "images_path = 'visual_dialog/VisualDialog_val2018/'"
   ]
  },
  {
   "cell_type": "code",
   "execution_count": 2,
   "metadata": {},
   "outputs": [
    {
     "name": "stdout",
     "output_type": "stream",
     "text": [
      "is the photo in color\n",
      "yes\n"
     ]
    }
   ],
   "source": [
    "# Read the JSON file and load it into a Python object\n",
    "with open(dialogs_path, 'r') as f:\n",
    "    dialogs = json.load(f)\n",
    "\n",
    "answer_index = dialogs['data']['dialogs'][0]['dialog'][0]['answer']\n",
    "question_index = dialogs['data']['dialogs'][0]['dialog'][0]['question']\n",
    "image_id = dialogs['data']['dialogs'][0]['image_id']\n",
    "\n",
    "question = dialogs['data']['questions'][question_index]\n",
    "answer = dialogs['data']['answers'][answer_index]\n",
    "\n",
    "print(question)\n",
    "print(answer)"
   ]
  },
  {
   "cell_type": "code",
   "execution_count": 3,
   "metadata": {},
   "outputs": [],
   "source": [
    "# Get image file by image id\n",
    "\n",
    "def get_image(image_id, show_image=False):\n",
    "    # Loop through all the files in the folder\n",
    "    for file_name in os.listdir(images_path):\n",
    "        # Check if the file name ends with the number and .jpg suffix\n",
    "        if file_name.endswith(str(image_id) + '.jpg'):\n",
    "            # Create the full path to the matching file\n",
    "            # Do something with the file, e.g. print its path\n",
    "            image_path = os.path.join(images_path, file_name)\n",
    "            image = Image.open(image_path)\n",
    "            if show_image:\n",
    "                plt.figure(figsize=(3, 3))\n",
    "                plt.axis('off')\n",
    "                plt.imshow(np.array(image))\n",
    "                plt.show()\n",
    "            return image\n"
   ]
  },
  {
   "cell_type": "code",
   "execution_count": 4,
   "metadata": {},
   "outputs": [],
   "source": [
    "# Load model used in the paper.\n",
    "# model_dir = './fromage_model/'\n",
    "# model = models.load_fromage(model_dir)"
   ]
  },
  {
   "cell_type": "code",
   "execution_count": 5,
   "metadata": {},
   "outputs": [],
   "source": [
    "# CREATE DIALOG DATAFRAME\n",
    "\n",
    "def create_stories(dialogs_path:str) -> pd.DataFrame:\n",
    "\n",
    "    # Read the JSON file and load it into a Python object\n",
    "    with open(dialogs_path, 'r') as f:\n",
    "        dialogs = json.load(f)\n",
    "\n",
    "    dialog_df = pd.DataFrame(columns=['id', 'round', 'image_id', 'question_id', 'question', 'answer_id', 'answer'])\n",
    "\n",
    "    # LOAD STORY-IN-SEQUENCE JSON\n",
    "    for i in range(len(dialogs['data']['dialogs'])):\n",
    "        id = i\n",
    "\n",
    "        image_id = dialogs['data']['dialogs'][i]['image_id']\n",
    "        # get_image(image_id)\n",
    "\n",
    "        for j in range(len(dialogs['data']['dialogs'][i]['dialog'])):\n",
    "                round = j+1\n",
    "                answer_index = dialogs['data']['dialogs'][i]['dialog'][j]['answer']\n",
    "                question_index = dialogs['data']['dialogs'][i]['dialog'][j]['question']\n",
    "\n",
    "                question = dialogs['data']['questions'][question_index]\n",
    "                answer = dialogs['data']['answers'][answer_index]\n",
    "\n",
    "                new_row = {'id': id, 'round': round, 'image_id': image_id, 'question_id': question_index, \n",
    "                           'question': question, 'answer_id': answer_index, 'answer': answer}\n",
    "\n",
    "                # Append the new row to the DataFrame using the loc method\n",
    "                dialog_df.loc[len(dialog_df)] = new_row\n",
    "    \n",
    "    return dialog_df\n"
   ]
  },
  {
   "cell_type": "code",
   "execution_count": 6,
   "metadata": {},
   "outputs": [],
   "source": [
    "dialogs_path = 'visual_dialog/visdial_1.0_val.json'\n",
    "\n",
    "dialog_df = create_stories(dialogs_path)"
   ]
  },
  {
   "cell_type": "code",
   "execution_count": null,
   "metadata": {},
   "outputs": [],
   "source": [
    "stories_csv_path = 'visual_dialog/dialogs.csv'\n",
    "dialog_utils.save_stories(dialog_df, stories_csv_path)"
   ]
  },
  {
   "attachments": {},
   "cell_type": "markdown",
   "metadata": {},
   "source": [
    "# Load Dialogs Dataframe"
   ]
  },
  {
   "cell_type": "code",
   "execution_count": null,
   "metadata": {},
   "outputs": [],
   "source": [
    "def load_dialogs(stories_csv_path: str) -> pd.DataFrame:\n",
    "    return pd.read_csv(stories_csv_path, encoding='utf8', dtype=str)"
   ]
  },
  {
   "cell_type": "code",
   "execution_count": null,
   "metadata": {},
   "outputs": [],
   "source": [
    "dialogs_csv_path = 'visual_dialog/dialogs.csv'\n",
    "\n",
    "dialogs_df = load_dialogs(dialogs_csv_path)"
   ]
  },
  {
   "cell_type": "code",
   "execution_count": null,
   "metadata": {},
   "outputs": [],
   "source": [
    "dialogs_df.head()"
   ]
  },
  {
   "cell_type": "code",
   "execution_count": 1,
   "metadata": {},
   "outputs": [
    {
     "ename": "NameError",
     "evalue": "name 'dialogs_df' is not defined",
     "output_type": "error",
     "traceback": [
      "\u001b[0;31m---------------------------------------------------------------------------\u001b[0m",
      "\u001b[0;31mNameError\u001b[0m                                 Traceback (most recent call last)",
      "Cell \u001b[0;32mIn[1], line 5\u001b[0m\n\u001b[1;32m      1\u001b[0m \u001b[39m# Create prompts from dataframe\u001b[39;00m\n\u001b[1;32m      3\u001b[0m prompt, prompt_list \u001b[39m=\u001b[39m [], []\n\u001b[0;32m----> 5\u001b[0m \u001b[39mfor\u001b[39;00m i \u001b[39min\u001b[39;00m \u001b[39mrange\u001b[39m(\u001b[39mlen\u001b[39m(dialogs_df)\u001b[39m-\u001b[39m\u001b[39m1\u001b[39m):\n\u001b[1;32m      6\u001b[0m     \u001b[39mif\u001b[39;00m dialog_df[\u001b[39m'\u001b[39m\u001b[39mround\u001b[39m\u001b[39m'\u001b[39m][i] \u001b[39m==\u001b[39m \u001b[39m1\u001b[39m:\n\u001b[1;32m      7\u001b[0m         image_id \u001b[39m=\u001b[39m dialogs_df[\u001b[39m'\u001b[39m\u001b[39mimage_id\u001b[39m\u001b[39m'\u001b[39m][i]\n",
      "\u001b[0;31mNameError\u001b[0m: name 'dialogs_df' is not defined"
     ]
    }
   ],
   "source": [
    "# Create prompts from dataframe\n",
    "def get_prompt_list(dialogs_df):\n",
    "\n",
    "    prompt, prompt_list = [], []\n",
    "\n",
    "    for i in range(len(dialogs_df)-1):\n",
    "        if dialogs_df['round'][i] == 1:\n",
    "            image_id = dialogs_df['image_id'][i]\n",
    "            img = get_image(image_id)\n",
    "            prompt.append(img)\n",
    "        if dialogs_df['id'][i+1] == dialogs_df['id'][i]:\n",
    "            prompt.append(dialogs_df['question'][i])\n",
    "            prompt.append(dialogs_df['answer'][i])\n",
    "        else:\n",
    "            prompt_list.append(prompt)\n",
    "            # print(prompt)\n",
    "            prompt = []\n",
    "    return prompt_list"
   ]
  },
  {
   "cell_type": "code",
   "execution_count": null,
   "metadata": {},
   "outputs": [],
   "source": []
  }
 ],
 "metadata": {
  "kernelspec": {
   "display_name": "dl2_gpu",
   "language": "python",
   "name": "python3"
  },
  "language_info": {
   "codemirror_mode": {
    "name": "ipython",
    "version": 3
   },
   "file_extension": ".py",
   "mimetype": "text/x-python",
   "name": "python",
   "nbconvert_exporter": "python",
   "pygments_lexer": "ipython3",
   "version": "3.10.6"
  },
  "orig_nbformat": 4
 },
 "nbformat": 4,
 "nbformat_minor": 2
}
