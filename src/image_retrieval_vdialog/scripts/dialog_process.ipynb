{
 "cells": [
  {
   "cell_type": "code",
   "execution_count": 1,
   "metadata": {},
   "outputs": [],
   "source": [
    "import os\n",
    "import json\n",
    "import pandas as pd\n",
    "import matplotlib.pyplot as plt\n",
    "import numpy as np\n",
    "from PIL import Image\n",
    "\n",
    "from src.image_retrieval_vdialog.scripts import models # changed original code\n",
    "from visual_dialog import dialog_utils\n",
    "\n",
    "dialogs_path = 'visual_dialog/visdial_1.0_val.json'\n",
    "annotations_path = 'visual_dialog/visdial_1.0_val_dense_annotations.json'\n",
    "images_path = 'visual_dialog/VisualDialog_val2018/'"
   ]
  },
  {
   "cell_type": "code",
   "execution_count": 2,
   "metadata": {},
   "outputs": [],
   "source": [
    "# Read the JSON file and load it into a Python object\n",
    "with open(dialogs_path, 'r') as f:\n",
    "    dialogs = json.load(f)"
   ]
  },
  {
   "attachments": {},
   "cell_type": "markdown",
   "metadata": {},
   "source": [
    "# Create Dialog Dataframe"
   ]
  },
  {
   "cell_type": "code",
   "execution_count": 19,
   "metadata": {},
   "outputs": [],
   "source": [
    "# Create dialog dataframe\n",
    "def create_stories(dialogs_path:str) -> pd.DataFrame:\n",
    "\n",
    "    # Read the JSON file and load it into a Python object\n",
    "    with open(dialogs_path, 'r') as f:\n",
    "        dialogs = json.load(f)\n",
    "\n",
    "    dialog_df = pd.DataFrame(columns=['id', 'round', 'image_id', 'caption', 'question_id', 'question', 'answer_id', 'answer'])\n",
    "\n",
    "    # Iterate through the dialogs and extract the desired information\n",
    "    for i in range(len(dialogs['data']['dialogs'])):\n",
    "        id = i\n",
    "\n",
    "        image_id = dialogs['data']['dialogs'][i]['image_id']\n",
    "        caption = dialogs['data']['dialogs'][i]['caption']\n",
    "\n",
    "        for j in range(len(dialogs['data']['dialogs'][i]['dialog'])):\n",
    "                round = j+1\n",
    "                answer_index = dialogs['data']['dialogs'][i]['dialog'][j]['answer']\n",
    "                question_index = dialogs['data']['dialogs'][i]['dialog'][j]['question']\n",
    "\n",
    "                question = dialogs['data']['questions'][question_index]\n",
    "                answer = dialogs['data']['answers'][answer_index]\n",
    "\n",
    "                new_row = {'id': id, 'round': round, 'image_id': image_id, 'caption': caption, 'question_id': question_index, \n",
    "                           'question': question, 'answer_id': answer_index, 'answer': answer}\n",
    "\n",
    "                # Append the new row to the Dataframe\n",
    "                dialog_df.loc[len(dialog_df)] = new_row\n",
    "    \n",
    "    return dialog_df\n"
   ]
  },
  {
   "cell_type": "code",
   "execution_count": 20,
   "metadata": {},
   "outputs": [],
   "source": [
    "# Create the Dataframe\n",
    "dialogs_path = 'visual_dialog/visdial_1.0_val.json'\n",
    "dialog_df = create_stories(dialogs_path)"
   ]
  },
  {
   "cell_type": "code",
   "execution_count": 21,
   "metadata": {},
   "outputs": [],
   "source": [
    "# Save the dataframe as csv\n",
    "stories_csv_path = 'visual_dialog/dialogs.csv'\n",
    "dialog_utils.save_stories(dialog_df, stories_csv_path)"
   ]
  },
  {
   "attachments": {},
   "cell_type": "markdown",
   "metadata": {},
   "source": [
    "# Load Dialogs Dataframe"
   ]
  },
  {
   "cell_type": "code",
   "execution_count": 22,
   "metadata": {},
   "outputs": [],
   "source": [
    "def load_dialogs(stories_csv_path: str) -> pd.DataFrame:\n",
    "    return pd.read_csv(stories_csv_path, encoding='utf8', dtype=str)"
   ]
  },
  {
   "cell_type": "code",
   "execution_count": 23,
   "metadata": {},
   "outputs": [],
   "source": [
    "# Load dataframe\n",
    "dialogs_csv_path = 'visual_dialog/dialogs.csv'\n",
    "dialogs_df = load_dialogs(dialogs_csv_path)"
   ]
  },
  {
   "cell_type": "code",
   "execution_count": 24,
   "metadata": {},
   "outputs": [
    {
     "data": {
      "text/html": [
       "<div>\n",
       "<style scoped>\n",
       "    .dataframe tbody tr th:only-of-type {\n",
       "        vertical-align: middle;\n",
       "    }\n",
       "\n",
       "    .dataframe tbody tr th {\n",
       "        vertical-align: top;\n",
       "    }\n",
       "\n",
       "    .dataframe thead th {\n",
       "        text-align: right;\n",
       "    }\n",
       "</style>\n",
       "<table border=\"1\" class=\"dataframe\">\n",
       "  <thead>\n",
       "    <tr style=\"text-align: right;\">\n",
       "      <th></th>\n",
       "      <th>id</th>\n",
       "      <th>round</th>\n",
       "      <th>image_id</th>\n",
       "      <th>caption</th>\n",
       "      <th>question_id</th>\n",
       "      <th>question</th>\n",
       "      <th>answer_id</th>\n",
       "      <th>answer</th>\n",
       "    </tr>\n",
       "  </thead>\n",
       "  <tbody>\n",
       "    <tr>\n",
       "      <th>0</th>\n",
       "      <td>0</td>\n",
       "      <td>1</td>\n",
       "      <td>185565</td>\n",
       "      <td>a bedroom is filled with lots of posters and a...</td>\n",
       "      <td>9367</td>\n",
       "      <td>is the photo in color</td>\n",
       "      <td>4754</td>\n",
       "      <td>yes</td>\n",
       "    </tr>\n",
       "    <tr>\n",
       "      <th>1</th>\n",
       "      <td>0</td>\n",
       "      <td>2</td>\n",
       "      <td>185565</td>\n",
       "      <td>a bedroom is filled with lots of posters and a...</td>\n",
       "      <td>16865</td>\n",
       "      <td>is it a professional photo</td>\n",
       "      <td>15736</td>\n",
       "      <td>no</td>\n",
       "    </tr>\n",
       "    <tr>\n",
       "      <th>2</th>\n",
       "      <td>0</td>\n",
       "      <td>3</td>\n",
       "      <td>185565</td>\n",
       "      <td>a bedroom is filled with lots of posters and a...</td>\n",
       "      <td>43028</td>\n",
       "      <td>is it well lit</td>\n",
       "      <td>15736</td>\n",
       "      <td>no</td>\n",
       "    </tr>\n",
       "    <tr>\n",
       "      <th>3</th>\n",
       "      <td>0</td>\n",
       "      <td>4</td>\n",
       "      <td>185565</td>\n",
       "      <td>a bedroom is filled with lots of posters and a...</td>\n",
       "      <td>12354</td>\n",
       "      <td>is it daytime</td>\n",
       "      <td>9119</td>\n",
       "      <td>i don't see windows</td>\n",
       "    </tr>\n",
       "    <tr>\n",
       "      <th>4</th>\n",
       "      <td>0</td>\n",
       "      <td>5</td>\n",
       "      <td>185565</td>\n",
       "      <td>a bedroom is filled with lots of posters and a...</td>\n",
       "      <td>41873</td>\n",
       "      <td>does this look like an adults bedroom</td>\n",
       "      <td>13691</td>\n",
       "      <td>maybe</td>\n",
       "    </tr>\n",
       "  </tbody>\n",
       "</table>\n",
       "</div>"
      ],
      "text/plain": [
       "  id round image_id                                            caption  \\\n",
       "0  0     1   185565  a bedroom is filled with lots of posters and a...   \n",
       "1  0     2   185565  a bedroom is filled with lots of posters and a...   \n",
       "2  0     3   185565  a bedroom is filled with lots of posters and a...   \n",
       "3  0     4   185565  a bedroom is filled with lots of posters and a...   \n",
       "4  0     5   185565  a bedroom is filled with lots of posters and a...   \n",
       "\n",
       "  question_id                               question answer_id  \\\n",
       "0        9367                  is the photo in color      4754   \n",
       "1       16865             is it a professional photo     15736   \n",
       "2       43028                         is it well lit     15736   \n",
       "3       12354                          is it daytime      9119   \n",
       "4       41873  does this look like an adults bedroom     13691   \n",
       "\n",
       "                answer  \n",
       "0                  yes  \n",
       "1                   no  \n",
       "2                   no  \n",
       "3  i don't see windows  \n",
       "4                maybe  "
      ]
     },
     "execution_count": 24,
     "metadata": {},
     "output_type": "execute_result"
    }
   ],
   "source": [
    "# Show dataframe\n",
    "dialogs_df.head()"
   ]
  },
  {
   "cell_type": "code",
   "execution_count": null,
   "metadata": {},
   "outputs": [],
   "source": []
  }
 ],
 "metadata": {
  "kernelspec": {
   "display_name": "dl2_gpu",
   "language": "python",
   "name": "python3"
  },
  "language_info": {
   "codemirror_mode": {
    "name": "ipython",
    "version": 3
   },
   "file_extension": ".py",
   "mimetype": "text/x-python",
   "name": "python",
   "nbconvert_exporter": "python",
   "pygments_lexer": "ipython3",
   "version": "3.10.6"
  },
  "orig_nbformat": 4
 },
 "nbformat": 4,
 "nbformat_minor": 2
}
