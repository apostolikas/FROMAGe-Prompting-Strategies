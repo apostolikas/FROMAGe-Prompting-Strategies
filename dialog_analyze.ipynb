{
 "cells": [
  {
   "cell_type": "code",
   "execution_count": 1,
   "metadata": {},
   "outputs": [],
   "source": [
    "import pandas as pd\n",
    "import json\n",
    "\n",
    "from visual_dialog import dialog_utils"
   ]
  },
  {
   "cell_type": "code",
   "execution_count": 2,
   "metadata": {},
   "outputs": [],
   "source": [
    "num_examples = 3\n",
    "ret_img = True"
   ]
  },
  {
   "cell_type": "code",
   "execution_count": 3,
   "metadata": {},
   "outputs": [
    {
     "ename": "FileNotFoundError",
     "evalue": "[Errno 2] No such file or directory: 'visual_dialog/3_examples_ret_img.json'",
     "output_type": "error",
     "traceback": [
      "\u001b[0;31m---------------------------------------------------------------------------\u001b[0m",
      "\u001b[0;31mFileNotFoundError\u001b[0m                         Traceback (most recent call last)",
      "Cell \u001b[0;32mIn[3], line 4\u001b[0m\n\u001b[1;32m      1\u001b[0m path \u001b[39m=\u001b[39m \u001b[39mf\u001b[39m\u001b[39m\"\u001b[39m\u001b[39mvisual_dialog/\u001b[39m\u001b[39m{\u001b[39;00mnum_examples\u001b[39m}\u001b[39;00m\u001b[39m_examples_\u001b[39m\u001b[39m{\u001b[39;00m\u001b[39m'\u001b[39m\u001b[39mret_img\u001b[39m\u001b[39m'\u001b[39m\u001b[39m \u001b[39m\u001b[39mif\u001b[39;00m\u001b[39m \u001b[39mret_img\u001b[39m \u001b[39m\u001b[39m==\u001b[39m\u001b[39m \u001b[39m\u001b[39mTrue\u001b[39;00m\u001b[39m \u001b[39m\u001b[39melse\u001b[39;00m\u001b[39m \u001b[39m\u001b[39m'\u001b[39m\u001b[39mret_text\u001b[39m\u001b[39m'\u001b[39m\u001b[39m}\u001b[39;00m\u001b[39m.json\u001b[39m\u001b[39m\"\u001b[39m\n\u001b[1;32m      3\u001b[0m \u001b[39m# Read the JSON strings back from the file\u001b[39;00m\n\u001b[0;32m----> 4\u001b[0m \u001b[39mwith\u001b[39;00m \u001b[39mopen\u001b[39;49m(path, \u001b[39m'\u001b[39;49m\u001b[39mr\u001b[39;49m\u001b[39m'\u001b[39;49m) \u001b[39mas\u001b[39;00m file:\n\u001b[1;32m      5\u001b[0m     prompts_json \u001b[39m=\u001b[39m file\u001b[39m.\u001b[39mreadline()\u001b[39m.\u001b[39mstrip()\n\u001b[1;32m      6\u001b[0m     model_output_json \u001b[39m=\u001b[39m file\u001b[39m.\u001b[39mreadline()\u001b[39m.\u001b[39mstrip()\n",
      "File \u001b[0;32m~/.conda/envs/dl2_gpu/lib/python3.10/site-packages/IPython/core/interactiveshell.py:284\u001b[0m, in \u001b[0;36m_modified_open\u001b[0;34m(file, *args, **kwargs)\u001b[0m\n\u001b[1;32m    277\u001b[0m \u001b[39mif\u001b[39;00m file \u001b[39min\u001b[39;00m {\u001b[39m0\u001b[39m, \u001b[39m1\u001b[39m, \u001b[39m2\u001b[39m}:\n\u001b[1;32m    278\u001b[0m     \u001b[39mraise\u001b[39;00m \u001b[39mValueError\u001b[39;00m(\n\u001b[1;32m    279\u001b[0m         \u001b[39mf\u001b[39m\u001b[39m\"\u001b[39m\u001b[39mIPython won\u001b[39m\u001b[39m'\u001b[39m\u001b[39mt let you open fd=\u001b[39m\u001b[39m{\u001b[39;00mfile\u001b[39m}\u001b[39;00m\u001b[39m by default \u001b[39m\u001b[39m\"\u001b[39m\n\u001b[1;32m    280\u001b[0m         \u001b[39m\"\u001b[39m\u001b[39mas it is likely to crash IPython. If you know what you are doing, \u001b[39m\u001b[39m\"\u001b[39m\n\u001b[1;32m    281\u001b[0m         \u001b[39m\"\u001b[39m\u001b[39myou can use builtins\u001b[39m\u001b[39m'\u001b[39m\u001b[39m open.\u001b[39m\u001b[39m\"\u001b[39m\n\u001b[1;32m    282\u001b[0m     )\n\u001b[0;32m--> 284\u001b[0m \u001b[39mreturn\u001b[39;00m io_open(file, \u001b[39m*\u001b[39;49margs, \u001b[39m*\u001b[39;49m\u001b[39m*\u001b[39;49mkwargs)\n",
      "\u001b[0;31mFileNotFoundError\u001b[0m: [Errno 2] No such file or directory: 'visual_dialog/3_examples_ret_img.json'"
     ]
    }
   ],
   "source": [
    "path = f\"visual_dialog/{num_examples}_examples_{'ret_img' if ret_img == True else 'ret_text'}.json\"\n",
    "\n",
    "# Read the JSON strings back from the file\n",
    "with open(path, 'r') as file:\n",
    "    prompts_json = file.readline().strip()\n",
    "    model_output_json = file.readline().strip()\n",
    "\n",
    "# Deserialize the JSON strings back to lists of lists\n",
    "prompts = json.loads(prompts_json)\n",
    "model_output = json.loads(model_output_json)\n",
    "\n",
    "# Print the retrieved lists\n",
    "if len(prompts) == len(model_output):\n",
    "    print('correct lengths')\n",
    "else:\n",
    "    print('incorrect lengths')\n",
    "\n",
    "for i in range(len(prompts)):\n",
    "    dialog_utils.display_dialog(prompts[i])\n",
    "    dialog_utils.display_dialog(model_output[i])\n",
    "\n",
    "\n",
    "    \n",
    "\n",
    "\n",
    "\n",
    "\n",
    "# dialog_df = pd.read_csv(path)\n",
    "\n",
    "\n",
    "\n",
    "# for i in range(len(dialog_df)):\n",
    "#     prompt = (dialog_df['prompt'][i])\n",
    "#     output = (dialog_df['output'][i])\n",
    "#     # prompt = ast.literal_eval(prompt)\n",
    "#     prompt = json.load(prompt)\n",
    "#     print(len(prompt))\n",
    "#     print(\"#####Model output###########\")\n",
    "\n",
    "#     print(output)\n",
    "\n",
    "\n",
    "    # dialog_utils.display_dialog(prompt)\n",
    "    # dialog_utils.display_dialog(output)"
   ]
  },
  {
   "cell_type": "code",
   "execution_count": null,
   "metadata": {},
   "outputs": [],
   "source": []
  }
 ],
 "metadata": {
  "kernelspec": {
   "display_name": "dl2_gpu",
   "language": "python",
   "name": "python3"
  },
  "language_info": {
   "codemirror_mode": {
    "name": "ipython",
    "version": 3
   },
   "file_extension": ".py",
   "mimetype": "text/x-python",
   "name": "python",
   "nbconvert_exporter": "python",
   "pygments_lexer": "ipython3",
   "version": "3.10.6"
  },
  "orig_nbformat": 4
 },
 "nbformat": 4,
 "nbformat_minor": 2
}
