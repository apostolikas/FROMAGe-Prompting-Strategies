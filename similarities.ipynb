{
  "cells": [
    {
      "cell_type": "code",
      "execution_count": 5,
      "id": "560725a2",
      "metadata": {
        "id": "560725a2"
      },
      "outputs": [],
      "source": [
        "import numpy as np\n",
        "import torch\n",
        "import matplotlib.pyplot as plt\n",
        "import cv2"
      ]
    },
    {
      "cell_type": "code",
      "execution_count": 6,
      "id": "1848a108",
      "metadata": {
        "colab": {
          "base_uri": "https://localhost:8080/"
        },
        "id": "1848a108",
        "outputId": "9d90b3d5-4679-4fa5-a62e-448afcafeba1"
      },
      "outputs": [
        {
          "name": "stdout",
          "output_type": "stream",
          "text": [
            "Mounted at /content/drive\n"
          ]
        }
      ],
      "source": [
        "import sys\n",
        "sys.path.append(\"..\")\n",
        "from tqdm import tqdm\n",
        "\n",
        "from google.colab import drive\n",
        "drive.mount('/content/drive')\n"
      ]
    },
    {
      "attachments": {},
      "cell_type": "markdown",
      "id": "bU2bd0Z2MXqf",
      "metadata": {
        "id": "bU2bd0Z2MXqf"
      },
      "source": [
        "First calculate image to text similarities using Clip"
      ]
    },
    {
      "cell_type": "code",
      "execution_count": 67,
      "id": "hIrkpCWuFPp6",
      "metadata": {
        "colab": {
          "base_uri": "https://localhost:8080/"
        },
        "id": "hIrkpCWuFPp6",
        "outputId": "c4edb529-8238-4326-892b-330005d442f4"
      },
      "outputs": [
        {
          "name": "stdout",
          "output_type": "stream",
          "text": [
            "Looking in indexes: https://pypi.org/simple, https://us-python.pkg.dev/colab-wheels/public/simple/\n",
            "Requirement already satisfied: transformers in /usr/local/lib/python3.10/dist-packages (4.29.1)\n",
            "Requirement already satisfied: filelock in /usr/local/lib/python3.10/dist-packages (from transformers) (3.12.0)\n",
            "Requirement already satisfied: huggingface-hub<1.0,>=0.14.1 in /usr/local/lib/python3.10/dist-packages (from transformers) (0.14.1)\n",
            "Requirement already satisfied: numpy>=1.17 in /usr/local/lib/python3.10/dist-packages (from transformers) (1.22.4)\n",
            "Requirement already satisfied: packaging>=20.0 in /usr/local/lib/python3.10/dist-packages (from transformers) (23.1)\n",
            "Requirement already satisfied: pyyaml>=5.1 in /usr/local/lib/python3.10/dist-packages (from transformers) (6.0)\n",
            "Requirement already satisfied: regex!=2019.12.17 in /usr/local/lib/python3.10/dist-packages (from transformers) (2022.10.31)\n",
            "Requirement already satisfied: requests in /usr/local/lib/python3.10/dist-packages (from transformers) (2.27.1)\n",
            "Requirement already satisfied: tokenizers!=0.11.3,<0.14,>=0.11.1 in /usr/local/lib/python3.10/dist-packages (from transformers) (0.13.3)\n",
            "Requirement already satisfied: tqdm>=4.27 in /usr/local/lib/python3.10/dist-packages (from transformers) (4.65.0)\n",
            "Requirement already satisfied: fsspec in /usr/local/lib/python3.10/dist-packages (from huggingface-hub<1.0,>=0.14.1->transformers) (2023.4.0)\n",
            "Requirement already satisfied: typing-extensions>=3.7.4.3 in /usr/local/lib/python3.10/dist-packages (from huggingface-hub<1.0,>=0.14.1->transformers) (4.5.0)\n",
            "Requirement already satisfied: urllib3<1.27,>=1.21.1 in /usr/local/lib/python3.10/dist-packages (from requests->transformers) (1.26.15)\n",
            "Requirement already satisfied: certifi>=2017.4.17 in /usr/local/lib/python3.10/dist-packages (from requests->transformers) (2022.12.7)\n",
            "Requirement already satisfied: charset-normalizer~=2.0.0 in /usr/local/lib/python3.10/dist-packages (from requests->transformers) (2.0.12)\n",
            "Requirement already satisfied: idna<4,>=2.5 in /usr/local/lib/python3.10/dist-packages (from requests->transformers) (3.4)\n"
          ]
        },
        {
          "name": "stderr",
          "output_type": "stream",
          "text": [
            "`text_config_dict` is provided which will be used to initialize `CLIPTextConfig`. The value `text_config[\"id2label\"]` will be overriden.\n",
            "100%|██████████| 2500/2500 [02:53<00:00, 14.44it/s]\n"
          ]
        }
      ],
      "source": [
        "import pickle\n",
        "import torch\n",
        "!pip install transformers\n",
        "from transformers import CLIPProcessor, CLIPModel\n",
        "path = \"/content/drive/MyDrive/\"\n",
        "def load_pickle(filename):\n",
        "    with open(filename, \"rb\") as input_file:\n",
        "        object = pickle.load(input_file)\n",
        "    return object\n",
        "\n",
        "def create_pickle(filename, object):\n",
        "    with open(filename, 'wb') as f:\n",
        "        pickle.dump(object, f)\n",
        "\n",
        "dict_prompt_captions = load_pickle(path+\"dict_question_captions.pickle\")\n",
        "# Now let's \n",
        "model = CLIPModel.from_pretrained('openai/clip-vit-large-patch14')\n",
        "processor = CLIPProcessor.from_pretrained('openai/clip-vit-large-patch14')\n",
        "model.cuda()\n",
        "\n",
        "dict_model_input = load_pickle(path+'dict_model_input_int.pickle')\n",
        "device = torch.device(\"cuda\" if torch.cuda.is_available() else \"cpu\")\n",
        "sim = []\n",
        "probs = []\n",
        "with torch.no_grad():\n",
        "  for i in tqdm(dict_model_input):\n",
        "      img_ex1, text_ex1, img_ex2, text_ex2, img_q, text_q_prompt = dict_model_input[i]\n",
        "      \n",
        "      text_clip = [text_ex1,text_ex2] \n",
        "      inputs = processor(text=text_clip, images=img_q, return_tensors=\"pt\", padding=True)\n",
        "      inputs=inputs.to(device)\n",
        "      outputs = model(**inputs)\n",
        "\n",
        "      logits_per_image = outputs.logits_per_image # this is the image-text similarity score\n",
        "      logits_per_image = logits_per_image.cpu()\n",
        "      sim.append(logits_per_image.tolist())\n",
        "\n",
        "      #omit these if you only want cosine similarity\n",
        "      # if i%100==0:\n",
        "create_pickle(path+'clip_sim_img2text.pickle',sim)\n",
        "      "
      ]
    },
    {
      "attachments": {},
      "cell_type": "markdown",
      "id": "pxUgFj0GMd05",
      "metadata": {
        "id": "pxUgFj0GMd05"
      },
      "source": [
        "Now let's calculate img2img similarities using feature extractor"
      ]
    },
    {
      "cell_type": "code",
      "execution_count": 57,
      "id": "kVZV2Sz8-RL2",
      "metadata": {
        "colab": {
          "base_uri": "https://localhost:8080/"
        },
        "id": "kVZV2Sz8-RL2",
        "outputId": "118830a2-e0c3-4198-d36c-a4dd8d19cd01"
      },
      "outputs": [
        {
          "name": "stderr",
          "output_type": "stream",
          "text": [
            "100%|██████████| 2500/2500 [04:42<00:00,  8.86it/s]\n"
          ]
        }
      ],
      "source": [
        "from transformers import ViTImageProcessor, ViTModel\n",
        "\n",
        "processor = ViTImageProcessor.from_pretrained('google/vit-large-patch16-224-in21k') #https://huggingface.co/google/vit-large-patch16-224-in21k\n",
        "model = ViTModel.from_pretrained('google/vit-large-patch16-224-in21k')\n",
        "model.cuda()\n",
        "\n",
        "device = torch.device(\"cuda\" if torch.cuda.is_available() else \"cpu\")\n",
        "img_sim = []\n",
        "probs = []\n",
        "with torch.no_grad():\n",
        "  for i in tqdm(dict_model_input):\n",
        "      img_ex1, text_ex1, img_ex2, text_ex2, img_q, text_q_prompt = dict_model_input[i]\n",
        "      \n",
        "      images = [img_ex1, img_ex2, img_q]\n",
        "      inputs = processor(images=images, return_tensors=\"pt\")\n",
        "      inputs=inputs.to(device)\n",
        "\n",
        "      outputs = model(**inputs)\n",
        "      pooler_output = outputs.pooler_output\n",
        "\n",
        "      scores_1 = torch.nn.functional.cosine_similarity(pooler_output[0], pooler_output[2],dim=0).item()\n",
        "      scores_2 = torch.nn.functional.cosine_similarity(pooler_output[1], pooler_output[2],dim=0).item()\n",
        "      img_sim.append((scores_1,scores_2))\n",
        "      # logits_per_image = outputs.logits_per_image # this is the image-text similarity score\n",
        "      # logits_per_image = logits_per_image.cpu()\n",
        "      # img_sim.append(logits_per_image.tolist())\n",
        "\n",
        "      #omit these if you only want cosine similarity\n",
        "      # if i%100==0:\n",
        "      \n",
        "create_pickle(path+'sim_img2img.pickle',img_sim)"
      ]
    }
  ],
  "metadata": {
    "accelerator": "GPU",
    "colab": {
      "gpuType": "T4",
      "provenance": []
    },
    "gpuClass": "standard",
    "kernelspec": {
      "display_name": "Python 3 (ipykernel)",
      "language": "python",
      "name": "python3"
    },
    "language_info": {
      "codemirror_mode": {
        "name": "ipython",
        "version": 3
      },
      "file_extension": ".py",
      "mimetype": "text/x-python",
      "name": "python",
      "nbconvert_exporter": "python",
      "pygments_lexer": "ipython3",
      "version": "3.8.0"
    }
  },
  "nbformat": 4,
  "nbformat_minor": 5
}
