{
  "cells": [
    {
      "cell_type": "code",
      "execution_count": 5,
      "id": "560725a2",
      "metadata": {
        "id": "560725a2"
      },
      "outputs": [],
      "source": [
        "import numpy as np\n",
        "import torch\n",
        "import matplotlib.pyplot as plt\n",
        "import cv2"
      ]
    },
    {
      "cell_type": "code",
      "execution_count": 6,
      "id": "1848a108",
      "metadata": {
        "colab": {
          "base_uri": "https://localhost:8080/"
        },
        "id": "1848a108",
        "outputId": "9d90b3d5-4679-4fa5-a62e-448afcafeba1"
      },
      "outputs": [
        {
          "name": "stdout",
          "output_type": "stream",
          "text": [
            "Mounted at /content/drive\n"
          ]
        }
      ],
      "source": [
        "import sys\n",
        "sys.path.append(\"..\")\n",
        "from tqdm import tqdm\n"
      ]
    },
    {
      "attachments": {},
      "cell_type": "markdown",
      "id": "pxUgFj0GMd05",
      "metadata": {
        "id": "pxUgFj0GMd05"
      },
      "source": [
        "Now let's calculate img2img similarities using feature extractor"
      ]
    },
    {
      "cell_type": "code",
      "execution_count": 57,
      "id": "kVZV2Sz8-RL2",
      "metadata": {
        "colab": {
          "base_uri": "https://localhost:8080/"
        },
        "id": "kVZV2Sz8-RL2",
        "outputId": "118830a2-e0c3-4198-d36c-a4dd8d19cd01"
      },
      "outputs": [
        {
          "name": "stderr",
          "output_type": "stream",
          "text": [
            "100%|██████████| 2500/2500 [04:42<00:00,  8.86it/s]\n"
          ]
        }
      ],
      "source": [
        "from transformers import ViTImageProcessor, ViTModel\n",
        "from my_utils import load_pickle, create_pickle\n",
        "from fromage.data import load_real_mi\n",
        "\n",
        "processor = ViTImageProcessor.from_pretrained('google/vit-large-patch16-224-in21k') #https://huggingface.co/google/vit-large-patch16-224-in21k\n",
        "model = ViTModel.from_pretrained('google/vit-large-patch16-224-in21k')\n",
        "model.cuda()\n",
        "\n",
        "device = torch.device(\"cuda\" if torch.cuda.is_available() else \"cpu\")\n",
        "\n",
        "def calculate_similarities(dict_model_input, num_ways):\n",
        "    device = torch.device(\"cuda\" if torch.cuda.is_available() else \"cpu\")\n",
        "    processor = ViTImageProcessor.from_pretrained('google/vit-large-patch16-224-in21k') #https://huggingface.co/google/vit-large-patch16-224-in21k\n",
        "    model = ViTModel.from_pretrained('google/vit-large-patch16-224-in21k')\n",
        "    model.to(device)\n",
        "\n",
        "    img_sim = []\n",
        "    print('now we will calculate img2img similarities')\n",
        "    with torch.no_grad():\n",
        "        for i in tqdm(dict_model_input):\n",
        "            input = dict_model_input[i]\n",
        "\n",
        "            images = [input[i] for i in range(0,len(input),2)]\n",
        "            inputs = processor(images=images, return_tensors=\"pt\")\n",
        "            inputs=inputs.to(device)\n",
        "\n",
        "            outputs = model(**inputs)\n",
        "            pooler_output = outputs.pooler_output\n",
        "\n",
        "            scores = [torch.nn.functional.cosine_similarity(pooler_output[i], pooler_output[-1],dim=0).item() for \n",
        "                      i in range(num_ways)]\n",
        "            assert(len(scores)==num_ways)\n",
        "            img_sim.append(scores)\n",
        "        \n",
        "    create_pickle(f'sim_img2img_{num_ways}.pickle',img_sim)\n",
        "    return img_sim\n",
        "\n",
        "all_num_ways = [2,5]\n",
        "for num_ways in all_num_ways:\n",
        "    dict_model_input, dict_question_captions = load_real_mi(num_ways)\n",
        "    img_sim = calculate_similarities(dict_model_input, num_ways)"
      ]
    }
  ],
  "metadata": {
    "accelerator": "GPU",
    "colab": {
      "gpuType": "T4",
      "provenance": []
    },
    "gpuClass": "standard",
    "kernelspec": {
      "display_name": "Python 3 (ipykernel)",
      "language": "python",
      "name": "python3"
    },
    "language_info": {
      "codemirror_mode": {
        "name": "ipython",
        "version": 3
      },
      "file_extension": ".py",
      "mimetype": "text/x-python",
      "name": "python",
      "nbconvert_exporter": "python",
      "pygments_lexer": "ipython3",
      "version": "3.8.0"
    }
  },
  "nbformat": 4,
  "nbformat_minor": 5
}
