{
 "cells": [
  {
   "cell_type": "code",
   "execution_count": 1,
   "metadata": {},
   "outputs": [],
   "source": [
    "import os\n",
    "\n",
    "import numpy as np\n",
    "import pandas as pd\n",
    "from PIL import Image\n",
    "import matplotlib.pyplot as plt\n",
    "from IPython.display import clear_output\n",
    "\n",
    "from visual_storytelling import story_in_sequence"
   ]
  },
  {
   "cell_type": "code",
   "execution_count": 2,
   "metadata": {},
   "outputs": [],
   "source": [
    "def display_story(story_list):\n",
    "    for element in story_list:\n",
    "        if type(element) == str:\n",
    "            print(element)\n",
    "        elif type(element) == Image.Image:\n",
    "            plt.figure(figsize=(3, 3))\n",
    "            plt.axis('off')\n",
    "            plt.imshow(np.array(element))\n",
    "            plt.show()"
   ]
  },
  {
   "cell_type": "markdown",
   "metadata": {},
   "source": [
    "# Annotate Predictions"
   ]
  },
  {
   "cell_type": "markdown",
   "metadata": {},
   "source": [
    "### Select experiment"
   ]
  },
  {
   "cell_type": "code",
   "execution_count": 3,
   "metadata": {},
   "outputs": [],
   "source": [
    "num_captions = 5\n",
    "\n",
    "include_images = True"
   ]
  },
  {
   "cell_type": "code",
   "execution_count": 4,
   "metadata": {},
   "outputs": [
    {
     "name": "stdout",
     "output_type": "stream",
     "text": [
      "./visual_storytelling/images/5_captions_with_images\n"
     ]
    }
   ],
   "source": [
    "vist_images_folder = './visual_storytelling/images'\n",
    "\n",
    "experiment_name = f'{num_captions}_captions_{\"with\" if include_images else \"no\"}_images'\n",
    "\n",
    "experiment_folder = f'{vist_images_folder}/{experiment_name}'\n",
    "\n",
    "if os.path.exists(experiment_folder):\n",
    "    print(experiment_folder)\n",
    "else:\n",
    "    print(f'ERROR: {experiment_folder} does not exist.')"
   ]
  },
  {
   "attachments": {},
   "cell_type": "markdown",
   "metadata": {},
   "source": [
    "### Load stories dataframe"
   ]
  },
  {
   "cell_type": "code",
   "execution_count": 5,
   "metadata": {},
   "outputs": [],
   "source": [
    "stories_csv_path = './visual_storytelling/stories.csv'\n",
    "stories_df = story_in_sequence.load_stories(stories_csv_path)"
   ]
  },
  {
   "cell_type": "markdown",
   "metadata": {},
   "source": [
    "### Load annotations"
   ]
  },
  {
   "cell_type": "code",
   "execution_count": 6,
   "metadata": {},
   "outputs": [],
   "source": [
    "vist_annotations_folder = './visual_storytelling/annotations'\n",
    "\n",
    "vist_annotations_csv_path = f'{vist_annotations_folder}/{experiment_name}.csv'\n",
    "\n",
    "if os.path.exists(vist_annotations_csv_path):\n",
    "    annotations_df = pd.read_csv(vist_annotations_csv_path, encoding='utf8', \n",
    "                                 dtype={'story_id': 'str', 'prediction': 'int'})\n",
    "else:\n",
    "    annotations_df = pd.DataFrame({ \n",
    "        'story_id': pd.Series(dtype='str'), 'prediction': pd.Series(dtype='int') })"
   ]
  },
  {
   "attachments": {},
   "cell_type": "markdown",
   "metadata": {},
   "source": [
    "### Annotation loop"
   ]
  },
  {
   "cell_type": "code",
   "execution_count": 7,
   "metadata": {},
   "outputs": [],
   "source": [
    "# scan experiment folder without recursion\n",
    "root, dirs, files = next(os.walk(experiment_folder))\n",
    "\n",
    "for filename in files:\n",
    "    \n",
    "    story_id = filename.replace('.png', '')\n",
    "    image_path = os.path.join(root, filename)\n",
    "\n",
    "    # skip annotated story\n",
    "    if story_id in annotations_df['story_id'].values:\n",
    "        continue\n",
    "\n",
    "    print('\\n', story_id, '\\n')\n",
    "\n",
    "    story_list = story_in_sequence.create_story_list(\n",
    "        stories_df, story_id, num_captions, include_images, as_prompt=False)\n",
    "\n",
    "    display_story(story_list)\n",
    "\n",
    "    print('\\n', '=' * 50, '\\n')\n",
    "\n",
    "    predictions_image = Image.open(image_path)\n",
    "    plt.figure(figsize=(5 * 3, 5))\n",
    "    plt.axis('off')\n",
    "    plt.imshow(np.array(predictions_image))\n",
    "    plt.show()\n",
    "\n",
    "    prediction = ''\n",
    "    while (prediction != '0') and (prediction != '1') and (prediction != '2'):\n",
    "        prediction = input('prediction: 0 (false) - 1 (correct) - 2 (stop)')\n",
    "    \n",
    "    if prediction == '2':\n",
    "        clear_output(wait=False)\n",
    "        break\n",
    "\n",
    "    annotations_df.loc[len(annotations_df)] = [story_id, int(prediction)]\n",
    "\n",
    "    clear_output(wait=False)\n",
    "\n",
    "annotations_df.to_csv(vist_annotations_csv_path, encoding='utf8', index=False)\n",
    "\n",
    "print('\\n', 'Done', '\\n')"
   ]
  }
 ],
 "metadata": {
  "kernelspec": {
   "display_name": "Python 3",
   "language": "python",
   "name": "python3"
  },
  "language_info": {
   "codemirror_mode": {
    "name": "ipython",
    "version": 3
   },
   "file_extension": ".py",
   "mimetype": "text/x-python",
   "name": "python",
   "nbconvert_exporter": "python",
   "pygments_lexer": "ipython3",
   "version": "3.10.6"
  },
  "orig_nbformat": 4
 },
 "nbformat": 4,
 "nbformat_minor": 2
}
